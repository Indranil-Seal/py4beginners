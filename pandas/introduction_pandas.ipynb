{
 "cells": [
  {
   "cell_type": "markdown",
   "id": "7de0cd9e",
   "metadata": {},
   "source": [
    "# Introduction to Pandas\n",
    "> Chapter 3 - Basics of Pandas\n",
    ">> Pandas is a powerful library for data manipulation and analysis in Python. Here's a simple script introducing some basic Pandas functionality for beginners:\n",
    ">>> Reach us at https://topmate.io/datanddoodle"
   ]
  },
  {
   "cell_type": "markdown",
   "id": "9de8607e",
   "metadata": {},
   "source": [
    "This script covers creating a DataFrame, basic DataFrame operations, accessing columns, adding new columns, filtering data, sorting data, and basic grouping and aggregation. Additionally, it briefly mentions reading data from and exporting data to a CSV file. Feel free to run this script in a Python environment to see the output. If you have a CSV file with similar data, uncomment the relevant lines to explore reading and exporting functionality."
   ]
  },
  {
   "cell_type": "markdown",
   "id": "4a395d4c",
   "metadata": {},
   "source": [
    "# Import Pandas library"
   ]
  },
  {
   "cell_type": "code",
   "execution_count": 2,
   "id": "80606b7d",
   "metadata": {},
   "outputs": [],
   "source": [
    "import pandas as pd"
   ]
  },
  {
   "cell_type": "markdown",
   "id": "15e13fb5",
   "metadata": {},
   "source": [
    "# Creating a DataFrame from a Dictionary"
   ]
  },
  {
   "cell_type": "code",
   "execution_count": 3,
   "id": "f5be6eee",
   "metadata": {},
   "outputs": [
    {
     "data": {
      "text/html": [
       "<div>\n",
       "<style scoped>\n",
       "    .dataframe tbody tr th:only-of-type {\n",
       "        vertical-align: middle;\n",
       "    }\n",
       "\n",
       "    .dataframe tbody tr th {\n",
       "        vertical-align: top;\n",
       "    }\n",
       "\n",
       "    .dataframe thead th {\n",
       "        text-align: right;\n",
       "    }\n",
       "</style>\n",
       "<table border=\"1\" class=\"dataframe\">\n",
       "  <thead>\n",
       "    <tr style=\"text-align: right;\">\n",
       "      <th></th>\n",
       "      <th>Name</th>\n",
       "      <th>Age</th>\n",
       "      <th>City</th>\n",
       "    </tr>\n",
       "  </thead>\n",
       "  <tbody>\n",
       "    <tr>\n",
       "      <th>0</th>\n",
       "      <td>Alice</td>\n",
       "      <td>25</td>\n",
       "      <td>New York</td>\n",
       "    </tr>\n",
       "    <tr>\n",
       "      <th>1</th>\n",
       "      <td>Bob</td>\n",
       "      <td>30</td>\n",
       "      <td>San Francisco</td>\n",
       "    </tr>\n",
       "    <tr>\n",
       "      <th>2</th>\n",
       "      <td>Charlie</td>\n",
       "      <td>35</td>\n",
       "      <td>Los Angeles</td>\n",
       "    </tr>\n",
       "    <tr>\n",
       "      <th>3</th>\n",
       "      <td>David</td>\n",
       "      <td>40</td>\n",
       "      <td>Chicago</td>\n",
       "    </tr>\n",
       "    <tr>\n",
       "      <th>4</th>\n",
       "      <td>Emily</td>\n",
       "      <td>22</td>\n",
       "      <td>Boston</td>\n",
       "    </tr>\n",
       "  </tbody>\n",
       "</table>\n",
       "</div>"
      ],
      "text/plain": [
       "      Name  Age           City\n",
       "0    Alice   25       New York\n",
       "1      Bob   30  San Francisco\n",
       "2  Charlie   35    Los Angeles\n",
       "3    David   40        Chicago\n",
       "4    Emily   22         Boston"
      ]
     },
     "execution_count": 3,
     "metadata": {},
     "output_type": "execute_result"
    }
   ],
   "source": [
    "data = {\n",
    "    'Name': ['Alice', 'Bob', 'Charlie', 'David', 'Emily'],\n",
    "    'Age': [25, 30, 35, 40, 22],\n",
    "    'City': ['New York', 'San Francisco', 'Los Angeles', 'Chicago', 'Boston']\n",
    "}\n",
    "\n",
    "df = pd.DataFrame(data)\n",
    "df"
   ]
  },
  {
   "cell_type": "markdown",
   "id": "ebf17382",
   "metadata": {},
   "source": [
    "# Displaying the DataFrame"
   ]
  },
  {
   "cell_type": "code",
   "execution_count": 5,
   "id": "4d7fa2ed",
   "metadata": {},
   "outputs": [
    {
     "name": "stdout",
     "output_type": "stream",
     "text": [
      "DataFrame:\n",
      "      Name  Age           City\n",
      "0    Alice   25       New York\n",
      "1      Bob   30  San Francisco\n",
      "2  Charlie   35    Los Angeles\n",
      "3    David   40        Chicago\n",
      "4    Emily   22         Boston\n"
     ]
    }
   ],
   "source": [
    "print(\"DataFrame:\")\n",
    "print(df)"
   ]
  },
  {
   "cell_type": "markdown",
   "id": "2ae58fe2",
   "metadata": {},
   "source": [
    "# Basic DataFrame Operations"
   ]
  },
  {
   "cell_type": "code",
   "execution_count": 4,
   "id": "732537a8",
   "metadata": {},
   "outputs": [
    {
     "name": "stdout",
     "output_type": "stream",
     "text": [
      "\n",
      "DataFrame Information:\n",
      "<class 'pandas.core.frame.DataFrame'>\n",
      "RangeIndex: 5 entries, 0 to 4\n",
      "Data columns (total 3 columns):\n",
      " #   Column  Non-Null Count  Dtype \n",
      "---  ------  --------------  ----- \n",
      " 0   Name    5 non-null      object\n",
      " 1   Age     5 non-null      int64 \n",
      " 2   City    5 non-null      object\n",
      "dtypes: int64(1), object(2)\n",
      "memory usage: 248.0+ bytes\n",
      "None\n"
     ]
    }
   ],
   "source": [
    "print(\"\\nDataFrame Information:\")\n",
    "print(df.info())"
   ]
  },
  {
   "cell_type": "code",
   "execution_count": 5,
   "id": "f1bf219d",
   "metadata": {},
   "outputs": [
    {
     "name": "stdout",
     "output_type": "stream",
     "text": [
      "\n",
      "Descriptive Statistics:\n",
      "             Age\n",
      "count   5.000000\n",
      "mean   30.400000\n",
      "std     7.300685\n",
      "min    22.000000\n",
      "25%    25.000000\n",
      "50%    30.000000\n",
      "75%    35.000000\n",
      "max    40.000000\n"
     ]
    }
   ],
   "source": [
    "print(\"\\nDescriptive Statistics:\")\n",
    "print(df.describe())"
   ]
  },
  {
   "cell_type": "markdown",
   "id": "812c310c",
   "metadata": {},
   "source": [
    "# Accessing Columns"
   ]
  },
  {
   "cell_type": "code",
   "execution_count": 8,
   "id": "1879a67f",
   "metadata": {},
   "outputs": [
    {
     "name": "stdout",
     "output_type": "stream",
     "text": [
      "\n",
      "Column 'Name':\n",
      "0      Alice\n",
      "1        Bob\n",
      "2    Charlie\n",
      "3      David\n",
      "4      Emily\n",
      "Name: Name, dtype: object\n"
     ]
    }
   ],
   "source": [
    "print(\"\\nColumn 'Name':\")\n",
    "print(df['Name'])"
   ]
  },
  {
   "cell_type": "markdown",
   "id": "747a6de3",
   "metadata": {},
   "source": [
    "# Adding a new column"
   ]
  },
  {
   "cell_type": "code",
   "execution_count": 11,
   "id": "369817bc",
   "metadata": {},
   "outputs": [
    {
     "name": "stdout",
     "output_type": "stream",
     "text": [
      "\n",
      "DataFrame with IsStudent Column:\n",
      "      Name  Age           City  IsStudent\n",
      "0    Alice   25       New York      False\n",
      "1      Bob   30  San Francisco       True\n",
      "2  Charlie   35    Los Angeles      False\n",
      "3    David   40        Chicago       True\n",
      "4    Emily   22         Boston      False\n"
     ]
    }
   ],
   "source": [
    "df['IsStudent'] = [False, True, False, True, False]\n",
    "print(\"\\nDataFrame with IsStudent Column:\")\n",
    "print(df)"
   ]
  },
  {
   "cell_type": "markdown",
   "id": "3b8afaf6",
   "metadata": {},
   "source": [
    "# Filtering data"
   ]
  },
  {
   "cell_type": "code",
   "execution_count": 12,
   "id": "28f29281",
   "metadata": {},
   "outputs": [
    {
     "name": "stdout",
     "output_type": "stream",
     "text": [
      "\n",
      "Students Only:\n",
      "    Name  Age           City  IsStudent\n",
      "1    Bob   30  San Francisco       True\n",
      "3  David   40        Chicago       True\n"
     ]
    }
   ],
   "source": [
    "students_only = df[df['IsStudent'] == True]\n",
    "print(\"\\nStudents Only:\")\n",
    "print(students_only)"
   ]
  },
  {
   "cell_type": "markdown",
   "id": "72f83b43",
   "metadata": {},
   "source": [
    "# Sorting Data"
   ]
  },
  {
   "cell_type": "code",
   "execution_count": 14,
   "id": "c17a703c",
   "metadata": {},
   "outputs": [
    {
     "name": "stdout",
     "output_type": "stream",
     "text": [
      "\n",
      "Sorted by Age (Descending):\n",
      "      Name  Age           City  IsStudent\n",
      "3    David   40        Chicago       True\n",
      "2  Charlie   35    Los Angeles      False\n",
      "1      Bob   30  San Francisco       True\n",
      "0    Alice   25       New York      False\n",
      "4    Emily   22         Boston      False\n"
     ]
    }
   ],
   "source": [
    "sorted_df = df.sort_values(by='Age', ascending=False)\n",
    "print(\"\\nSorted by Age (Descending):\")\n",
    "print(sorted_df)"
   ]
  },
  {
   "cell_type": "code",
   "execution_count": 12,
   "id": "9e23f95f",
   "metadata": {},
   "outputs": [],
   "source": [
    "# Reading data from a CSV file\n",
    "# Assume you have a CSV file named 'data.csv' with similar data\n",
    "# Uncomment the following lines to run this part of the script\n",
    "# df_from_csv = pd.read_csv('data.csv')\n",
    "# print(\"\\nDataFrame from CSV:\")\n",
    "# print(df_from_csv)\n",
    "\n",
    "# Exporting data to a CSV file\n",
    "# Uncomment the following line to run this part of the script\n",
    "# df.to_csv('exported_data.csv', index=False)"
   ]
  },
  {
   "cell_type": "markdown",
   "id": "9ecbe86e",
   "metadata": {},
   "source": [
    "# Grouping and Aggregation"
   ]
  },
  {
   "cell_type": "code",
   "execution_count": 15,
   "id": "e6e710c1",
   "metadata": {},
   "outputs": [
    {
     "name": "stdout",
     "output_type": "stream",
     "text": [
      "\n",
      "Grouped by City with Mean Aggregation:\n",
      "                Age  IsStudent\n",
      "City                          \n",
      "Boston         22.0        0.0\n",
      "Chicago        40.0        1.0\n",
      "Los Angeles    35.0        0.0\n",
      "New York       25.0        0.0\n",
      "San Francisco  30.0        1.0\n"
     ]
    }
   ],
   "source": [
    "city_grouped = df.groupby('City').mean()\n",
    "print(\"\\nGrouped by City with Mean Aggregation:\")\n",
    "print(city_grouped)"
   ]
  },
  {
   "cell_type": "markdown",
   "id": "bc148245",
   "metadata": {},
   "source": [
    "# Method Chaining in Pandas\n",
    ">Method chaining is a technique in Pandas where multiple operations are combined into a single, more concise line of code. It often makes the code more readable and avoids the need for intermediate variables. Here's an example of method chaining in a Pandas DataFrame:"
   ]
  },
  {
   "cell_type": "code",
   "execution_count": 16,
   "id": "2e150693",
   "metadata": {},
   "outputs": [
    {
     "name": "stdout",
     "output_type": "stream",
     "text": [
      "  Full Name  Age         City  Salary\n",
      "0     David   40      Chicago   79927\n",
      "1   Charlie   35  Los Angeles   53999\n"
     ]
    }
   ],
   "source": [
    "import pandas as pd\n",
    "import numpy as np\n",
    "\n",
    "# Creating a sample DataFrame\n",
    "data = {\n",
    "    'Name': ['Alice', 'Bob', 'Charlie', 'David', 'Emily'],\n",
    "    'Age': [25, 30, 35, 40, 22],\n",
    "    'City': ['New York', 'San Francisco', 'Los Angeles', 'Chicago', 'Boston']\n",
    "}\n",
    "\n",
    "df = pd.DataFrame(data)\n",
    "\n",
    "# Method chaining example\n",
    "result = (\n",
    "    df\n",
    "    .assign(Salary=np.random.randint(50000, 100000, size=len(df)))  # Adding a 'Salary' column\n",
    "    .query('Age > 30')  # Filtering rows where Age is greater than 30\n",
    "    .sort_values(by='Age', ascending=False)  # Sorting by Age in descending order\n",
    "    .reset_index(drop=True)  # Resetting the index\n",
    "    .rename(columns={'Name': 'Full Name'})  # Renaming the 'Name' column\n",
    "    [['Full Name', 'Age', 'City', 'Salary']]  # Selecting specific columns\n",
    ")\n",
    "\n",
    "print(result)\n"
   ]
  },
  {
   "cell_type": "markdown",
   "id": "c371faed",
   "metadata": {},
   "source": [
    "In this example:\n",
    "\n",
    ">assign: Adds a new 'Salary' column with random salary values.\n",
    ">>query: Filters the DataFrame to keep only rows where Age is greater than 30.\n",
    ">>>sort_values: Sorts the DataFrame by Age in descending order.\n",
    ">>>>reset_index: Resets the index of the DataFrame.\n",
    ">>>>>rename: Renames the 'Name' column to 'Full Name'.\n",
    ">>>>>>Selects specific columns using double square brackets.\n",
    ">The operations are chained together using the dot (.) notation, making the code more concise and readable. Adjust the operations based on your specific requirements."
   ]
  },
  {
   "cell_type": "markdown",
   "id": "157453bc",
   "metadata": {},
   "source": [
    "# Summarizing Data using Pandas\n",
    "Summarizing data using all Pandas functions would be quite extensive, as Pandas has a rich set of functions for data exploration and summary. However, I can provide you with a script that covers a variety of Pandas functions for data summarization. \n",
    "> This script uses a sample dataset and demonstrates some common summary operations:"
   ]
  },
  {
   "cell_type": "code",
   "execution_count": 17,
   "id": "fbc0952c",
   "metadata": {},
   "outputs": [],
   "source": [
    "import pandas as pd\n",
    "import numpy as np\n",
    "\n",
    "# Creating a sample DataFrame\n",
    "data = {\n",
    "    'Name': ['Alice', 'Bob', 'Charlie', 'David', 'Emily'],\n",
    "    'Age': [25, 30, 35, 40, 22],\n",
    "    'City': ['New York', 'San Francisco', 'Los Angeles', 'Chicago', 'Boston'],\n",
    "    'Salary': [60000, 75000, 90000, 80000, 55000],\n",
    "    'Department': ['HR', 'IT', 'Marketing', 'IT', 'HR']\n",
    "}\n",
    "\n",
    "df = pd.DataFrame(data)"
   ]
  },
  {
   "cell_type": "markdown",
   "id": "96517eac",
   "metadata": {},
   "source": [
    "# Displaying the DataFrame"
   ]
  },
  {
   "cell_type": "code",
   "execution_count": 18,
   "id": "f86c134c",
   "metadata": {},
   "outputs": [
    {
     "name": "stdout",
     "output_type": "stream",
     "text": [
      "Original DataFrame:\n",
      "      Name  Age           City  Salary Department\n",
      "0    Alice   25       New York   60000         HR\n",
      "1      Bob   30  San Francisco   75000         IT\n",
      "2  Charlie   35    Los Angeles   90000  Marketing\n",
      "3    David   40        Chicago   80000         IT\n",
      "4    Emily   22         Boston   55000         HR\n"
     ]
    }
   ],
   "source": [
    "print(\"Original DataFrame:\")\n",
    "print(df)"
   ]
  },
  {
   "cell_type": "markdown",
   "id": "547efdb6",
   "metadata": {},
   "source": [
    "# Info - information about the DataFrame"
   ]
  },
  {
   "cell_type": "code",
   "execution_count": 17,
   "id": "63867ff3",
   "metadata": {},
   "outputs": [
    {
     "name": "stdout",
     "output_type": "stream",
     "text": [
      "\n",
      "DataFrame Information:\n",
      "<class 'pandas.core.frame.DataFrame'>\n",
      "RangeIndex: 5 entries, 0 to 4\n",
      "Data columns (total 5 columns):\n",
      " #   Column      Non-Null Count  Dtype \n",
      "---  ------      --------------  ----- \n",
      " 0   Name        5 non-null      object\n",
      " 1   Age         5 non-null      int64 \n",
      " 2   City        5 non-null      object\n",
      " 3   Salary      5 non-null      int64 \n",
      " 4   Department  5 non-null      object\n",
      "dtypes: int64(2), object(3)\n",
      "memory usage: 328.0+ bytes\n",
      "None\n"
     ]
    }
   ],
   "source": [
    "print(\"\\nDataFrame Information:\")\n",
    "print(df.info())"
   ]
  },
  {
   "cell_type": "markdown",
   "id": "22b32eb1",
   "metadata": {},
   "source": [
    "# Head - Display the first few rows"
   ]
  },
  {
   "cell_type": "code",
   "execution_count": 19,
   "id": "085ae635",
   "metadata": {},
   "outputs": [
    {
     "name": "stdout",
     "output_type": "stream",
     "text": [
      "\n",
      "First 3 Rows:\n",
      "      Name  Age           City  Salary Department\n",
      "0    Alice   25       New York   60000         HR\n",
      "1      Bob   30  San Francisco   75000         IT\n",
      "2  Charlie   35    Los Angeles   90000  Marketing\n"
     ]
    }
   ],
   "source": [
    "print(\"\\nFirst 3 Rows:\")\n",
    "print(df.head(3))"
   ]
  },
  {
   "cell_type": "markdown",
   "id": "fa7f9121",
   "metadata": {},
   "source": [
    "# Tail - Display the last few rows"
   ]
  },
  {
   "cell_type": "code",
   "execution_count": 20,
   "id": "a9902aef",
   "metadata": {},
   "outputs": [
    {
     "name": "stdout",
     "output_type": "stream",
     "text": [
      "\n",
      "Last 2 Rows:\n",
      "      Name  Age         City  Salary Department\n",
      "2  Charlie   35  Los Angeles   90000  Marketing\n",
      "3    David   40      Chicago   80000         IT\n",
      "4    Emily   22       Boston   55000         HR\n"
     ]
    }
   ],
   "source": [
    "print(\"\\nLast 2 Rows:\")\n",
    "print(df.tail(3))"
   ]
  },
  {
   "cell_type": "markdown",
   "id": "5f673784",
   "metadata": {},
   "source": [
    "# Shape - Number of rows and columns"
   ]
  },
  {
   "cell_type": "code",
   "execution_count": 20,
   "id": "5d3547ed",
   "metadata": {},
   "outputs": [
    {
     "name": "stdout",
     "output_type": "stream",
     "text": [
      "\n",
      "Number of Rows and Columns:\n",
      "(5, 5)\n"
     ]
    }
   ],
   "source": [
    "print(\"\\nNumber of Rows and Columns:\")\n",
    "print(df.shape)"
   ]
  },
  {
   "cell_type": "markdown",
   "id": "f7c09bfa",
   "metadata": {},
   "source": [
    "# Columns - Display column names"
   ]
  },
  {
   "cell_type": "code",
   "execution_count": 21,
   "id": "ce5bc536",
   "metadata": {},
   "outputs": [
    {
     "name": "stdout",
     "output_type": "stream",
     "text": [
      "\n",
      "Column Names:\n",
      "Index(['Name', 'Age', 'City', 'Salary', 'Department'], dtype='object')\n"
     ]
    }
   ],
   "source": [
    "print(\"\\nColumn Names:\")\n",
    "print(df.columns)"
   ]
  },
  {
   "cell_type": "markdown",
   "id": "cbf552ed",
   "metadata": {},
   "source": [
    "# Value counts - count of unique values in a column"
   ]
  },
  {
   "cell_type": "code",
   "execution_count": 22,
   "id": "759ed1df",
   "metadata": {},
   "outputs": [
    {
     "name": "stdout",
     "output_type": "stream",
     "text": [
      "\n",
      "Value Counts for 'Department' column:\n",
      "HR           2\n",
      "IT           2\n",
      "Marketing    1\n",
      "Name: Department, dtype: int64\n"
     ]
    }
   ],
   "source": [
    "print(\"\\nValue Counts for 'Department' column:\")\n",
    "print(df['Department'].value_counts())"
   ]
  },
  {
   "cell_type": "markdown",
   "id": "218e0364",
   "metadata": {},
   "source": [
    "# Groupby - group data and calculate aggregate functions"
   ]
  },
  {
   "cell_type": "code",
   "execution_count": 23,
   "id": "48441c92",
   "metadata": {},
   "outputs": [
    {
     "name": "stdout",
     "output_type": "stream",
     "text": [
      "\n",
      "Grouped Data (Average Age, Total Salary by Department):\n",
      "             Age  Salary\n",
      "Department              \n",
      "HR          23.5  115000\n",
      "IT          35.0  155000\n",
      "Marketing   35.0   90000\n"
     ]
    }
   ],
   "source": [
    "grouped_data = df.groupby('Department').agg({'Age': 'mean', 'Salary': 'sum'})\n",
    "print(\"\\nGrouped Data (Average Age, Total Salary by Department):\")\n",
    "print(grouped_data)"
   ]
  },
  {
   "cell_type": "markdown",
   "id": "1891d6f1",
   "metadata": {},
   "source": [
    "# Crosstab - cross-tabulation of two or more factors"
   ]
  },
  {
   "cell_type": "code",
   "execution_count": 24,
   "id": "88bae57b",
   "metadata": {},
   "outputs": [
    {
     "name": "stdout",
     "output_type": "stream",
     "text": [
      "\n",
      "Cross-tabulation of 'Department' and 'City':\n",
      "City        Boston  Chicago  Los Angeles  New York  San Francisco\n",
      "Department                                                       \n",
      "HR               1        0            0         1              0\n",
      "IT               0        1            0         0              1\n",
      "Marketing        0        0            1         0              0\n"
     ]
    }
   ],
   "source": [
    "cross_tab = pd.crosstab(df['Department'], df['City'])\n",
    "print(\"\\nCross-tabulation of 'Department' and 'City':\")\n",
    "print(cross_tab)"
   ]
  },
  {
   "cell_type": "markdown",
   "id": "bfa03173",
   "metadata": {},
   "source": [
    "# Pivot table - create a spreadsheet-style pivot table"
   ]
  },
  {
   "cell_type": "code",
   "execution_count": 25,
   "id": "9d416714",
   "metadata": {},
   "outputs": [
    {
     "name": "stdout",
     "output_type": "stream",
     "text": [
      "\n",
      "Pivot Table (Total Salary by Department and City):\n",
      "City         Boston  Chicago  Los Angeles  New York  San Francisco\n",
      "Department                                                        \n",
      "HR          55000.0      NaN          NaN   60000.0            NaN\n",
      "IT              NaN  80000.0          NaN       NaN        75000.0\n",
      "Marketing       NaN      NaN      90000.0       NaN            NaN\n"
     ]
    }
   ],
   "source": [
    "pivot_table = pd.pivot_table(df, values='Salary', index='Department', columns='City', aggfunc=np.sum)\n",
    "print(\"\\nPivot Table (Total Salary by Department and City):\")\n",
    "print(pivot_table)"
   ]
  },
  {
   "cell_type": "markdown",
   "id": "32e0d555",
   "metadata": {},
   "source": [
    "# Missing values - check for missing values"
   ]
  },
  {
   "cell_type": "code",
   "execution_count": 26,
   "id": "79d3cda4",
   "metadata": {},
   "outputs": [
    {
     "name": "stdout",
     "output_type": "stream",
     "text": [
      "\n",
      "Missing Values:\n",
      "Name          0\n",
      "Age           0\n",
      "City          0\n",
      "Salary        0\n",
      "Department    0\n",
      "dtype: int64\n"
     ]
    }
   ],
   "source": [
    "print(\"\\nMissing Values:\")\n",
    "print(df.isnull().sum())"
   ]
  },
  {
   "cell_type": "markdown",
   "id": "c1731ffd",
   "metadata": {},
   "source": [
    "# Dropna - drop rows with missing values"
   ]
  },
  {
   "cell_type": "code",
   "execution_count": 27,
   "id": "f7c6f78d",
   "metadata": {},
   "outputs": [
    {
     "name": "stdout",
     "output_type": "stream",
     "text": [
      "\n",
      "DataFrame after dropping rows with missing values:\n",
      "      Name  Age           City  Salary Department\n",
      "0    Alice   25       New York   60000         HR\n",
      "1      Bob   30  San Francisco   75000         IT\n",
      "2  Charlie   35    Los Angeles   90000  Marketing\n",
      "3    David   40        Chicago   80000         IT\n",
      "4    Emily   22         Boston   55000         HR\n"
     ]
    }
   ],
   "source": [
    "df_no_missing = df.dropna()\n",
    "print(\"\\nDataFrame after dropping rows with missing values:\")\n",
    "print(df_no_missing)"
   ]
  },
  {
   "cell_type": "markdown",
   "id": "1ff66d8c",
   "metadata": {},
   "source": [
    "# Subsetting a Dataframe by columns\n",
    "> Subsetting a DataFrame by columns in Pandas involves selecting specific columns based on their names. Here's a sample code demonstrating how to subset a DataFrame by columns:"
   ]
  },
  {
   "cell_type": "code",
   "execution_count": 28,
   "id": "5d6eee5f",
   "metadata": {},
   "outputs": [
    {
     "name": "stdout",
     "output_type": "stream",
     "text": [
      "Original DataFrame:\n",
      "      Name  Age           City  Salary Department\n",
      "0    Alice   25       New York   60000         HR\n",
      "1      Bob   30  San Francisco   75000         IT\n",
      "2  Charlie   35    Los Angeles   90000  Marketing\n",
      "3    David   40        Chicago   80000         IT\n",
      "4    Emily   22         Boston   55000         HR\n",
      "\n",
      "Subset DataFrame (Selected Columns):\n",
      "      Name  Age  Salary\n",
      "0    Alice   25   60000\n",
      "1      Bob   30   75000\n",
      "2  Charlie   35   90000\n",
      "3    David   40   80000\n",
      "4    Emily   22   55000\n"
     ]
    }
   ],
   "source": [
    " import pandas as pd\n",
    "\n",
    "# Creating a sample DataFrame\n",
    "data = {\n",
    "    'Name': ['Alice', 'Bob', 'Charlie', 'David', 'Emily'],\n",
    "    'Age': [25, 30, 35, 40, 22],\n",
    "    'City': ['New York', 'San Francisco', 'Los Angeles', 'Chicago', 'Boston'],\n",
    "    'Salary': [60000, 75000, 90000, 80000, 55000],\n",
    "    'Department': ['HR', 'IT', 'Marketing', 'IT', 'HR']\n",
    "}\n",
    "\n",
    "df = pd.DataFrame(data)\n",
    "\n",
    "# Displaying the original DataFrame\n",
    "print(\"Original DataFrame:\")\n",
    "print(df)\n",
    "\n",
    "# Subsetting by columns\n",
    "selected_columns = ['Name', 'Age', 'Salary']\n",
    "subset_df = df[selected_columns]\n",
    "\n",
    "# Displaying the subset DataFrame\n",
    "print(\"\\nSubset DataFrame (Selected Columns):\")\n",
    "print(subset_df)\n"
   ]
  },
  {
   "cell_type": "markdown",
   "id": "442a1272",
   "metadata": {},
   "source": [
    "In this example, the selected_columns list contains the names of the columns you want to select. The subset DataFrame (subset_df) is created by indexing the original DataFrame (df) with the list of selected columns.\n",
    "\n",
    "> Adjust the selected_columns list based on the columns you want to include in your subset. This approach allows you to easily choose a specific subset of columns from your DataFrame."
   ]
  },
  {
   "cell_type": "markdown",
   "id": "09340cfc",
   "metadata": {},
   "source": [
    "# Subsetting a DataFrame by rows & columns together\n",
    "> The .iloc, .loc, and .at methods in Pandas are used for indexing and selecting subsets of data from a DataFrame. Here's a sample code demonstrating how to use these methods to subset rows and columns:\n"
   ]
  },
  {
   "cell_type": "code",
   "execution_count": 29,
   "id": "083c0cec",
   "metadata": {},
   "outputs": [
    {
     "name": "stdout",
     "output_type": "stream",
     "text": [
      "Original DataFrame:\n",
      "      Name  Age           City  Salary Department\n",
      "0    Alice   25       New York   60000         HR\n",
      "1      Bob   30  San Francisco   75000         IT\n",
      "2  Charlie   35    Los Angeles   90000  Marketing\n",
      "3    David   40        Chicago   80000         IT\n",
      "4    Emily   22         Boston   55000         HR\n"
     ]
    }
   ],
   "source": [
    "import pandas as pd\n",
    "\n",
    "# Creating a sample DataFrame\n",
    "data = {\n",
    "    'Name': ['Alice', 'Bob', 'Charlie', 'David', 'Emily'],\n",
    "    'Age': [25, 30, 35, 40, 22],\n",
    "    'City': ['New York', 'San Francisco', 'Los Angeles', 'Chicago', 'Boston'],\n",
    "    'Salary': [60000, 75000, 90000, 80000, 55000],\n",
    "    'Department': ['HR', 'IT', 'Marketing', 'IT', 'HR']\n",
    "}\n",
    "\n",
    "df = pd.DataFrame(data)\n",
    "\n",
    "# Displaying the original DataFrame\n",
    "print(\"Original DataFrame:\")\n",
    "print(df)"
   ]
  },
  {
   "cell_type": "markdown",
   "id": "23955c33",
   "metadata": {},
   "source": [
    "# Subset using .iloc (integer-location based indexing)"
   ]
  },
  {
   "cell_type": "code",
   "execution_count": 30,
   "id": "37799a3c",
   "metadata": {},
   "outputs": [],
   "source": [
    "subset_iloc = df.iloc[1:4, 0:3]  # Rows 1 to 3, Columns 0 to 2"
   ]
  },
  {
   "cell_type": "markdown",
   "id": "6147e942",
   "metadata": {},
   "source": [
    "# Displaying the subset DataFrame"
   ]
  },
  {
   "cell_type": "code",
   "execution_count": 31,
   "id": "a75fdecf",
   "metadata": {},
   "outputs": [
    {
     "name": "stdout",
     "output_type": "stream",
     "text": [
      "\n",
      "Subset DataFrame using .iloc:\n",
      "      Name  Age           City\n",
      "1      Bob   30  San Francisco\n",
      "2  Charlie   35    Los Angeles\n",
      "3    David   40        Chicago\n"
     ]
    }
   ],
   "source": [
    "print(\"\\nSubset DataFrame using .iloc:\")\n",
    "print(subset_iloc)"
   ]
  },
  {
   "cell_type": "markdown",
   "id": "7abe8ee7",
   "metadata": {},
   "source": [
    "# Subset using .loc (label-based indexing)"
   ]
  },
  {
   "cell_type": "code",
   "execution_count": 35,
   "id": "5b9716ef",
   "metadata": {},
   "outputs": [
    {
     "data": {
      "text/html": [
       "<div>\n",
       "<style scoped>\n",
       "    .dataframe tbody tr th:only-of-type {\n",
       "        vertical-align: middle;\n",
       "    }\n",
       "\n",
       "    .dataframe tbody tr th {\n",
       "        vertical-align: top;\n",
       "    }\n",
       "\n",
       "    .dataframe thead th {\n",
       "        text-align: right;\n",
       "    }\n",
       "</style>\n",
       "<table border=\"1\" class=\"dataframe\">\n",
       "  <thead>\n",
       "    <tr style=\"text-align: right;\">\n",
       "      <th></th>\n",
       "      <th>Name</th>\n",
       "      <th>Age</th>\n",
       "      <th>City</th>\n",
       "    </tr>\n",
       "  </thead>\n",
       "  <tbody>\n",
       "    <tr>\n",
       "      <th>1</th>\n",
       "      <td>Bob</td>\n",
       "      <td>30</td>\n",
       "      <td>San Francisco</td>\n",
       "    </tr>\n",
       "    <tr>\n",
       "      <th>2</th>\n",
       "      <td>Charlie</td>\n",
       "      <td>35</td>\n",
       "      <td>Los Angeles</td>\n",
       "    </tr>\n",
       "    <tr>\n",
       "      <th>3</th>\n",
       "      <td>David</td>\n",
       "      <td>40</td>\n",
       "      <td>Chicago</td>\n",
       "    </tr>\n",
       "  </tbody>\n",
       "</table>\n",
       "</div>"
      ],
      "text/plain": [
       "      Name  Age           City\n",
       "1      Bob   30  San Francisco\n",
       "2  Charlie   35    Los Angeles\n",
       "3    David   40        Chicago"
      ]
     },
     "execution_count": 35,
     "metadata": {},
     "output_type": "execute_result"
    }
   ],
   "source": [
    "subset_loc = df.loc[1:3, ['Name', 'Age', 'City']]  # Rows 1 to 3, Columns 'Name', 'Age', 'City'\n",
    "subset_loc"
   ]
  },
  {
   "cell_type": "markdown",
   "id": "0c960126",
   "metadata": {},
   "source": [
    "# Subset using .at (single label location)"
   ]
  },
  {
   "cell_type": "code",
   "execution_count": 33,
   "id": "8ca1f65b",
   "metadata": {},
   "outputs": [],
   "source": [
    "value_at = df.at[2, 'Name']  # Value at row 2, column 'Name'"
   ]
  },
  {
   "cell_type": "code",
   "execution_count": 34,
   "id": "12404f53",
   "metadata": {},
   "outputs": [
    {
     "name": "stdout",
     "output_type": "stream",
     "text": [
      "\n",
      "Value using .at:\n",
      "Charlie\n"
     ]
    }
   ],
   "source": [
    "# Displaying the subset value\n",
    "print(\"\\nValue using .at:\")\n",
    "print(value_at)"
   ]
  },
  {
   "cell_type": "markdown",
   "id": "60440daa",
   "metadata": {},
   "source": [
    "# Merging two Dataframes\n",
    "> Let's create two sample datasets and then merge them using Pandas. In this example, I'll create two DataFrames representing employee information and department information, and then merge them based on a common key, which is the 'DepartmentID':"
   ]
  },
  {
   "cell_type": "markdown",
   "id": "b0466ddb",
   "metadata": {},
   "source": [
    "In this example:\n",
    "\n",
    "The employees DataFrame contains information about employees, including their 'EmployeeID', 'Name', 'DepartmentID', and 'Salary'.\n",
    "The departments DataFrame contains information about departments, including 'DepartmentID' and 'DepartmentName'.\n",
    "The DataFrames are merged using pd.merge based on the common key 'DepartmentID' with an inner join.\n",
    "Feel free to modify the sample datasets or change the merging strategy (e.g., left join, right join, outer join) based on your specific needs."
   ]
  },
  {
   "cell_type": "code",
   "execution_count": 36,
   "id": "8c6bf52e",
   "metadata": {},
   "outputs": [
    {
     "name": "stdout",
     "output_type": "stream",
     "text": [
      "Employee DataFrame:\n",
      "   EmployeeID     Name  DepartmentID  Salary\n",
      "0           1    Alice           101   60000\n",
      "1           2      Bob           102   75000\n",
      "2           3  Charlie           101   90000\n",
      "3           4    David           103   80000\n",
      "4           5    Emily           102   55000\n",
      "\n",
      "Department DataFrame:\n",
      "   DepartmentID DepartmentName\n",
      "0           101             HR\n",
      "1           102             IT\n",
      "2           103      Marketing\n",
      "3           104        Finance\n",
      "\n",
      "Merged DataFrame:\n",
      "   EmployeeID     Name  DepartmentID  Salary DepartmentName\n",
      "0           1    Alice           101   60000             HR\n",
      "1           3  Charlie           101   90000             HR\n",
      "2           2      Bob           102   75000             IT\n",
      "3           5    Emily           102   55000             IT\n",
      "4           4    David           103   80000      Marketing\n"
     ]
    }
   ],
   "source": [
    "import pandas as pd\n",
    "\n",
    "# Creating a sample employee DataFrame\n",
    "employee_data = {\n",
    "    'EmployeeID': [1, 2, 3, 4, 5],\n",
    "    'Name': ['Alice', 'Bob', 'Charlie', 'David', 'Emily'],\n",
    "    'DepartmentID': [101, 102, 101, 103, 102],\n",
    "    'Salary': [60000, 75000, 90000, 80000, 55000]\n",
    "}\n",
    "\n",
    "employees = pd.DataFrame(employee_data)\n",
    "\n",
    "# Creating a sample department DataFrame\n",
    "department_data = {\n",
    "    'DepartmentID': [101, 102, 103, 104],\n",
    "    'DepartmentName': ['HR', 'IT', 'Marketing', 'Finance']\n",
    "}\n",
    "\n",
    "departments = pd.DataFrame(department_data)\n",
    "\n",
    "# Displaying the original DataFrames\n",
    "print(\"Employee DataFrame:\")\n",
    "print(employees)\n",
    "\n",
    "print(\"\\nDepartment DataFrame:\")\n",
    "print(departments)\n",
    "\n",
    "# Merging the DataFrames based on the 'DepartmentID' key\n",
    "merged_df = pd.merge(employees, departments, on='DepartmentID', how='inner')\n",
    "\n",
    "# Displaying the merged DataFrame\n",
    "print(\"\\nMerged DataFrame:\")\n",
    "print(merged_df)"
   ]
  }
 ],
 "metadata": {
  "kernelspec": {
   "display_name": "Python 3 (ipykernel)",
   "language": "python",
   "name": "python3"
  },
  "language_info": {
   "codemirror_mode": {
    "name": "ipython",
    "version": 3
   },
   "file_extension": ".py",
   "mimetype": "text/x-python",
   "name": "python",
   "nbconvert_exporter": "python",
   "pygments_lexer": "ipython3",
   "version": "3.9.9"
  }
 },
 "nbformat": 4,
 "nbformat_minor": 5
}
