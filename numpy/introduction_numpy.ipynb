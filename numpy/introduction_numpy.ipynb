{
 "cells": [
  {
   "cell_type": "markdown",
   "id": "dbcbf945",
   "metadata": {},
   "source": [
    "# Introduction to Numpy\n",
    "> Chapter 2 - Basics of numpy\n",
    ">> NumPy is a powerful library for numerical computing in Python. Here's a simple script introducing some basic NumPy functionality for beginners:\n",
    ">>> Reach us at https://topmate.io/datanddoodle"
   ]
  },
  {
   "cell_type": "markdown",
   "id": "cfae8d39",
   "metadata": {},
   "source": [
    "This script covers the creation of NumPy arrays, basic arithmetic operations, indexing, slicing, working with multi-dimensional arrays, generating sequences of numbers, reshaping arrays, and generating random numbers. \n",
    "Feel free to run this script in a Python environment to see the output."
   ]
  },
  {
   "cell_type": "markdown",
   "id": "2ecd4533",
   "metadata": {},
   "source": [
    "# Import NumPy library"
   ]
  },
  {
   "cell_type": "code",
   "execution_count": 1,
   "id": "3a7032b7",
   "metadata": {},
   "outputs": [],
   "source": [
    "import numpy as np"
   ]
  },
  {
   "cell_type": "markdown",
   "id": "1be71c1a",
   "metadata": {},
   "source": [
    "# Creating NumPy Arrays"
   ]
  },
  {
   "cell_type": "code",
   "execution_count": 2,
   "id": "53d0ba7f",
   "metadata": {},
   "outputs": [],
   "source": [
    "arr1 = np.array([1, 2, 3, 4, 5])\n",
    "arr2 = np.array([6, 7, 8, 9, 10])"
   ]
  },
  {
   "cell_type": "markdown",
   "id": "ac47b624",
   "metadata": {},
   "source": [
    "# Displaying Arrays"
   ]
  },
  {
   "cell_type": "code",
   "execution_count": 3,
   "id": "fd72c503",
   "metadata": {},
   "outputs": [
    {
     "name": "stdout",
     "output_type": "stream",
     "text": [
      "Array 1: [1 2 3 4 5]\n",
      "Array 2: [ 6  7  8  9 10]\n"
     ]
    }
   ],
   "source": [
    "print(\"Array 1:\", arr1)\n",
    "print(\"Array 2:\", arr2)"
   ]
  },
  {
   "cell_type": "markdown",
   "id": "6072aba2",
   "metadata": {},
   "source": [
    "# Basic Arithmetic Operations - Arrays"
   ]
  },
  {
   "cell_type": "code",
   "execution_count": 4,
   "id": "fb2a7a51",
   "metadata": {},
   "outputs": [],
   "source": [
    "sum_array = arr1 + arr2\n",
    "difference_array = arr1 - arr2\n",
    "product_array = arr1 * arr2\n",
    "division_array = arr1 / arr2"
   ]
  },
  {
   "cell_type": "code",
   "execution_count": 5,
   "id": "80800284",
   "metadata": {},
   "outputs": [
    {
     "name": "stdout",
     "output_type": "stream",
     "text": [
      "Sum of arrays: [ 7  9 11 13 15]\n",
      "Difference of arrays: [-5 -5 -5 -5 -5]\n",
      "Product of arrays: [ 6 14 24 36 50]\n",
      "Division of arrays: [0.16666667 0.28571429 0.375      0.44444444 0.5       ]\n"
     ]
    }
   ],
   "source": [
    "print(\"Sum of arrays:\", sum_array)\n",
    "print(\"Difference of arrays:\", difference_array)\n",
    "print(\"Product of arrays:\", product_array)\n",
    "print(\"Division of arrays:\", division_array)"
   ]
  },
  {
   "cell_type": "markdown",
   "id": "351a4d78",
   "metadata": {},
   "source": [
    "# Array Indexing and Slicing"
   ]
  },
  {
   "cell_type": "code",
   "execution_count": 6,
   "id": "c3223046",
   "metadata": {},
   "outputs": [
    {
     "name": "stdout",
     "output_type": "stream",
     "text": [
      "Element at index 2 in Array 1: 3\n",
      "Elements from index 1 to 3 in Array 2: [7 8 9]\n"
     ]
    }
   ],
   "source": [
    "print(\"Element at index 2 in Array 1:\", arr1[2])\n",
    "print(\"Elements from index 1 to 3 in Array 2:\", arr2[1:4])"
   ]
  },
  {
   "cell_type": "markdown",
   "id": "08a62929",
   "metadata": {},
   "source": [
    "# Multi-Dimensional Arrays"
   ]
  },
  {
   "cell_type": "code",
   "execution_count": 7,
   "id": "33fc3923",
   "metadata": {},
   "outputs": [
    {
     "name": "stdout",
     "output_type": "stream",
     "text": [
      "2D Matrix:\n",
      "[[1 2 3]\n",
      " [4 5 6]\n",
      " [7 8 9]]\n"
     ]
    }
   ],
   "source": [
    "matrix = np.array([[1, 2, 3], [4, 5, 6], [7, 8, 9]])\n",
    "print(\"2D Matrix:\")\n",
    "print(matrix)"
   ]
  },
  {
   "cell_type": "markdown",
   "id": "bf771743",
   "metadata": {},
   "source": [
    "# Operations on Multi-Dimensional Arrays"
   ]
  },
  {
   "cell_type": "code",
   "execution_count": 8,
   "id": "f44a3e73",
   "metadata": {},
   "outputs": [],
   "source": [
    "row_sum = np.sum(matrix, axis=1)\n",
    "column_mean = np.mean(matrix, axis=0)"
   ]
  },
  {
   "cell_type": "code",
   "execution_count": 9,
   "id": "9cb12673",
   "metadata": {},
   "outputs": [
    {
     "name": "stdout",
     "output_type": "stream",
     "text": [
      "Sum of each row: [ 6 15 24]\n",
      "Mean of each column: [4. 5. 6.]\n"
     ]
    }
   ],
   "source": [
    "print(\"Sum of each row:\", row_sum)\n",
    "print(\"Mean of each column:\", column_mean)"
   ]
  },
  {
   "cell_type": "markdown",
   "id": "76822200",
   "metadata": {},
   "source": [
    "# Generating sequences of numbers"
   ]
  },
  {
   "cell_type": "code",
   "execution_count": 10,
   "id": "e0c80c72",
   "metadata": {},
   "outputs": [
    {
     "name": "stdout",
     "output_type": "stream",
     "text": [
      "Sequence of numbers: [0 2 4 6 8]\n"
     ]
    }
   ],
   "source": [
    "sequence = np.arange(0, 10, 2)  # Start, stop, step\n",
    "print(\"Sequence of numbers:\", sequence)"
   ]
  },
  {
   "cell_type": "markdown",
   "id": "57cf9d2b",
   "metadata": {},
   "source": [
    "# Reshaping Arrays"
   ]
  },
  {
   "cell_type": "code",
   "execution_count": 11,
   "id": "b8311d84",
   "metadata": {},
   "outputs": [
    {
     "name": "stdout",
     "output_type": "stream",
     "text": [
      "Reshaped Matrix:\n",
      "[[1 2 3 4 5 6 7 8 9]]\n"
     ]
    }
   ],
   "source": [
    "reshaped_matrix = matrix.reshape(1, 9)\n",
    "print(\"Reshaped Matrix:\")\n",
    "print(reshaped_matrix)"
   ]
  },
  {
   "cell_type": "markdown",
   "id": "733b3dbb",
   "metadata": {},
   "source": [
    "# Random number generation"
   ]
  },
  {
   "cell_type": "code",
   "execution_count": 12,
   "id": "29ce1c7d",
   "metadata": {},
   "outputs": [
    {
     "name": "stdout",
     "output_type": "stream",
     "text": [
      "Random 3x3 Array:\n",
      "[[0.85537846 0.50481211 0.71551163]\n",
      " [0.45095224 0.6542107  0.80186775]\n",
      " [0.54907797 0.77430897 0.08031943]]\n"
     ]
    }
   ],
   "source": [
    "random_array = np.random.rand(3, 3)  # 3x3 array of random numbers between 0 and 1\n",
    "print(\"Random 3x3 Array:\")\n",
    "print(random_array)"
   ]
  }
 ],
 "metadata": {
  "kernelspec": {
   "display_name": "Python 3 (ipykernel)",
   "language": "python",
   "name": "python3"
  },
  "language_info": {
   "codemirror_mode": {
    "name": "ipython",
    "version": 3
   },
   "file_extension": ".py",
   "mimetype": "text/x-python",
   "name": "python",
   "nbconvert_exporter": "python",
   "pygments_lexer": "ipython3",
   "version": "3.9.9"
  }
 },
 "nbformat": 4,
 "nbformat_minor": 5
}
