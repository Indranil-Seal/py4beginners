{
 "cells": [
  {
   "cell_type": "markdown",
   "id": "4b08c49e",
   "metadata": {},
   "source": [
    "# Welcome to the basics of Python\n",
    "> Chapter 1 - The first Step\n",
    ">> Reach us at https://topmate.io/datanddoodle"
   ]
  },
  {
   "cell_type": "markdown",
   "id": "5d569b09",
   "metadata": {},
   "source": [
    "# This script introduces basic variable types such as strings, integers, floats, and booleans. \n",
    ">It also covers arithmetic operations, string manipulation, and common data structures like lists, tuples, and dictionaries. \n",
    ">>Additionally, it includes examples of boolean operations. Feel free to run this script in a Python environment to see the output."
   ]
  },
  {
   "cell_type": "markdown",
   "id": "a6d8099d",
   "metadata": {},
   "source": [
    "# Variable Declaration & Assignment"
   ]
  },
  {
   "cell_type": "code",
   "execution_count": 2,
   "id": "0801b799",
   "metadata": {},
   "outputs": [],
   "source": [
    "name = \"Indranil\"  # String\n",
    "age = 25  # Integer\n",
    "height = 5.9  # Float\n",
    "is_student = True  # Boolean"
   ]
  },
  {
   "cell_type": "code",
   "execution_count": 6,
   "id": "a2c4fcdf",
   "metadata": {},
   "outputs": [
    {
     "data": {
      "text/plain": [
       "('Indranil', 25, 5.9, True)"
      ]
     },
     "execution_count": 6,
     "metadata": {},
     "output_type": "execute_result"
    }
   ],
   "source": [
    "name,age,height,is_student"
   ]
  },
  {
   "cell_type": "markdown",
   "id": "d9d4bf03",
   "metadata": {},
   "source": [
    "# Displaying Variables"
   ]
  },
  {
   "cell_type": "code",
   "execution_count": 8,
   "id": "1d4991c5",
   "metadata": {},
   "outputs": [
    {
     "name": "stdout",
     "output_type": "stream",
     "text": [
      "My name is : Indranil\n",
      "Age: 25\n",
      "Height: 5.9\n",
      "Is Student: True\n"
     ]
    }
   ],
   "source": [
    "print(\"My name is :\", name)\n",
    "print(\"Age:\", age)\n",
    "print(\"Height:\", height)\n",
    "print(\"Is Student:\", is_student)"
   ]
  },
  {
   "cell_type": "code",
   "execution_count": 7,
   "id": "4eeed13c",
   "metadata": {},
   "outputs": [
    {
     "name": "stdout",
     "output_type": "stream",
     "text": [
      "name is : Indranil\n"
     ]
    }
   ],
   "source": [
    "print(\"name is :\",name)"
   ]
  },
  {
   "cell_type": "markdown",
   "id": "122a9c8c",
   "metadata": {},
   "source": [
    "# Basic Arithmetic Operations"
   ]
  },
  {
   "cell_type": "code",
   "execution_count": 12,
   "id": "4ba1d507",
   "metadata": {},
   "outputs": [],
   "source": [
    "sum_result = age + 5\n",
    "difference_result = age - 5\n",
    "product_result = age * 2\n",
    "division_result = age / 2"
   ]
  },
  {
   "cell_type": "code",
   "execution_count": 11,
   "id": "6079d647",
   "metadata": {},
   "outputs": [
    {
     "data": {
      "text/plain": [
       "30"
      ]
     },
     "execution_count": 11,
     "metadata": {},
     "output_type": "execute_result"
    }
   ],
   "source": [
    "sum_result = age + 5\n",
    "sum_result"
   ]
  },
  {
   "cell_type": "code",
   "execution_count": 13,
   "id": "78cf9f55",
   "metadata": {},
   "outputs": [
    {
     "name": "stdout",
     "output_type": "stream",
     "text": [
      "Age + 5 = 30\n",
      "Age - 5 = 20\n",
      "Age * 2 = 50\n",
      "Age / 2 = 12.5\n"
     ]
    }
   ],
   "source": [
    "print(\"Age + 5 =\", sum_result)\n",
    "print(\"Age - 5 =\", difference_result)\n",
    "print(\"Age * 2 =\", product_result)\n",
    "print(\"Age / 2 =\", division_result)"
   ]
  },
  {
   "cell_type": "markdown",
   "id": "9ffd54d1",
   "metadata": {},
   "source": [
    "# String Manipulation"
   ]
  },
  {
   "cell_type": "code",
   "execution_count": 15,
   "id": "ca4bf9e1",
   "metadata": {},
   "outputs": [
    {
     "name": "stdout",
     "output_type": "stream",
     "text": [
      "Hello, World!\n"
     ]
    }
   ],
   "source": [
    "greeting = \"Hello\"\n",
    "location = \"World\"\n",
    "full_greeting = greeting + \", \" + location + \"!\"\n",
    "print(full_greeting)"
   ]
  },
  {
   "cell_type": "markdown",
   "id": "c5c86334",
   "metadata": {},
   "source": [
    "# Lists"
   ]
  },
  {
   "cell_type": "code",
   "execution_count": 16,
   "id": "81ec42e7",
   "metadata": {},
   "outputs": [
    {
     "name": "stdout",
     "output_type": "stream",
     "text": [
      "Fruits: ['Apple', 'Banana', 'Orange', 'Mango', 'Pineapple']\n",
      "First fruit: Apple\n"
     ]
    }
   ],
   "source": [
    "fruits = [\"Apple\", \"Banana\", \"Orange\",\"Mango\",\"Pineapple\"]\n",
    "print(\"Fruits:\", fruits)\n",
    "print(\"First fruit:\", fruits[0])"
   ]
  },
  {
   "cell_type": "code",
   "execution_count": 22,
   "id": "c8556e73",
   "metadata": {},
   "outputs": [
    {
     "data": {
      "text/plain": [
       "'Mango'"
      ]
     },
     "execution_count": 22,
     "metadata": {},
     "output_type": "execute_result"
    }
   ],
   "source": [
    "fruits[-2]"
   ]
  },
  {
   "cell_type": "code",
   "execution_count": 24,
   "id": "dd994b24",
   "metadata": {},
   "outputs": [
    {
     "data": {
      "text/plain": [
       "'Apple'"
      ]
     },
     "execution_count": 24,
     "metadata": {},
     "output_type": "execute_result"
    }
   ],
   "source": [
    "[\"Apple\", \"Banana\", \"Orange\"][0]"
   ]
  },
  {
   "cell_type": "markdown",
   "id": "24dbf0e7",
   "metadata": {},
   "source": [
    "# Tuples"
   ]
  },
  {
   "cell_type": "code",
   "execution_count": 25,
   "id": "d7d5fd87",
   "metadata": {},
   "outputs": [
    {
     "name": "stdout",
     "output_type": "stream",
     "text": [
      "Coordinates: (10, 20)\n",
      "X-coordinate: 10\n",
      "Y-coordinate: 20\n"
     ]
    }
   ],
   "source": [
    "coordinates = (10, 20)\n",
    "print(\"Coordinates:\", coordinates)\n",
    "print(\"X-coordinate:\", coordinates[0])\n",
    "print(\"Y-coordinate:\", coordinates[1])"
   ]
  },
  {
   "cell_type": "code",
   "execution_count": 29,
   "id": "ad324853",
   "metadata": {},
   "outputs": [
    {
     "data": {
      "text/plain": [
       "(10, 20)"
      ]
     },
     "execution_count": 29,
     "metadata": {},
     "output_type": "execute_result"
    }
   ],
   "source": [
    "(10, 20)[0],(10, 20)[-1]"
   ]
  },
  {
   "cell_type": "markdown",
   "id": "91fc956b",
   "metadata": {},
   "source": [
    "# Dictionaries"
   ]
  },
  {
   "cell_type": "code",
   "execution_count": 31,
   "id": "896518e6",
   "metadata": {},
   "outputs": [
    {
     "name": "stdout",
     "output_type": "stream",
     "text": [
      "Person: {'name': 'Alice', 'location': 'Alice', 'age': 30, 'tip': 30, 'is_student': False}\n",
      "Person's name: Alice\n",
      "Person's age: 30\n",
      "Is person a student? False\n"
     ]
    }
   ],
   "source": [
    "person = {\n",
    "    \"name\": \"Alice\",\n",
    "    \"location\": \"Alice\",\n",
    "    \"age\": 30,\n",
    "    \"tip\": 30,\n",
    "    \"is_student\": False\n",
    "}\n",
    "print(\"Person:\", person)\n",
    "print(\"Person's name:\", person[\"name\"])\n",
    "print(\"Person's age:\", person[\"age\"])\n",
    "print(\"Is person a student?\", person[\"is_student\"])"
   ]
  },
  {
   "cell_type": "code",
   "execution_count": 32,
   "id": "0d322599",
   "metadata": {},
   "outputs": [
    {
     "data": {
      "text/plain": [
       "'Alice'"
      ]
     },
     "execution_count": 32,
     "metadata": {},
     "output_type": "execute_result"
    }
   ],
   "source": [
    "person[\"location\"]"
   ]
  },
  {
   "cell_type": "markdown",
   "id": "97cb31bc",
   "metadata": {},
   "source": [
    "# Boolean operations"
   ]
  },
  {
   "cell_type": "code",
   "execution_count": 33,
   "id": "a42b4e0a",
   "metadata": {},
   "outputs": [
    {
     "name": "stdout",
     "output_type": "stream",
     "text": [
      "Is adult? True\n",
      "Is teenager? False\n"
     ]
    }
   ],
   "source": [
    "is_adult = age >= 18\n",
    "is_teenager = age >= 13 and age < 18\n",
    "\n",
    "print(\"Is adult?\", is_adult)\n",
    "print(\"Is teenager?\", is_teenager)"
   ]
  }
 ],
 "metadata": {
  "kernelspec": {
   "display_name": "Python 3 (ipykernel)",
   "language": "python",
   "name": "python3"
  },
  "language_info": {
   "codemirror_mode": {
    "name": "ipython",
    "version": 3
   },
   "file_extension": ".py",
   "mimetype": "text/x-python",
   "name": "python",
   "nbconvert_exporter": "python",
   "pygments_lexer": "ipython3",
   "version": "3.9.9"
  }
 },
 "nbformat": 4,
 "nbformat_minor": 5
}
